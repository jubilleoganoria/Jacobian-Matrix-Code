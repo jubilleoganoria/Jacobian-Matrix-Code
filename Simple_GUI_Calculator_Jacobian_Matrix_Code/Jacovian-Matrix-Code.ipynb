{
 "cells": [
  {
   "cell_type": "markdown",
   "metadata": {},
   "source": [
    "## 3-DOF Manipulator Design Calculator - Forward Kinematics"
   ]
  },
  {
   "cell_type": "code",
   "execution_count": 1,
   "metadata": {},
   "outputs": [],
   "source": [
    "import numpy as np\n",
    "import math\n"
   ]
  },
  {
   "cell_type": "code",
   "execution_count": 2,
   "metadata": {},
   "outputs": [],
   "source": [
    "##FORWARD KINEMATICS"
   ]
  },
  {
   "cell_type": "code",
   "execution_count": 3,
   "metadata": {},
   "outputs": [
    {
     "name": "stdout",
     "output_type": "stream",
     "text": [
      "H0_1=\n",
      "[[ 1. -0.  0. 50.]\n",
      " [ 0.  1. -0.  0.]\n",
      " [ 0.  0.  1. 40.]\n",
      " [ 0.  0.  0.  1.]]\n",
      "H1_2=\n",
      "[[ 1.0000000e+00  0.0000000e+00  0.0000000e+00  6.0000000e+01]\n",
      " [ 0.0000000e+00 -1.0000000e+00 -1.2246468e-16  0.0000000e+00]\n",
      " [ 0.0000000e+00  1.2246468e-16 -1.0000000e+00  3.0000000e+01]\n",
      " [ 0.0000000e+00  0.0000000e+00  0.0000000e+00  1.0000000e+00]]\n",
      "H2_3=\n",
      "[[  1.  -0.   0.   0.]\n",
      " [  0.   1.  -0.   0.]\n",
      " [  0.   0.   1. 140.]\n",
      " [  0.   0.   0.   1.]]\n",
      "H0_3=\n",
      "[[ 1.00000000e+00  0.00000000e+00  0.00000000e+00  1.10000000e+02]\n",
      " [ 0.00000000e+00 -1.00000000e+00 -1.22464680e-16 -1.71450552e-14]\n",
      " [ 0.00000000e+00  1.22464680e-16 -1.00000000e+00 -7.00000000e+01]\n",
      " [ 0.00000000e+00  0.00000000e+00  0.00000000e+00  1.00000000e+00]]\n"
     ]
    }
   ],
   "source": [
    "a1 = float (input(\"a1 = \" )) # a1 = 40\n",
    "a2 = float (input(\"a2 = \" )) # a2 = 50\n",
    "a3 = float (input(\"a3 = \" )) # a3 = 30\n",
    "a4 = float (input(\"a4 = \" )) # a4 = 60\n",
    "a5 = float (input(\"a5 = \" )) # a5 = 40\n",
    "\n",
    "T1 = float (input(\"T1 = \" )) # T1 = 0\n",
    "T2 = float (input(\"T2 = \" )) # T2 = 0\n",
    "d3 = float (input(\"d3 = \" )) # d3 = 100\n",
    "\n",
    "T1 = (T1/180.0)*np.pi # Theta 1 in radians\n",
    "T2 = (T2/180.0)*np.pi # Theta 2 in radians\n",
    "\n",
    "PT = [[T1,(0.0/180.0)*np.pi,a2,a1],\n",
    "    [T2,(180.0/180.0)*np.pi,a4,a3],\n",
    "    [(0.0/180.0)*np.pi,(0.0/180.0)*np.pi,0,a5+d3]]\n",
    "\n",
    "i = 0\n",
    "H0_1 = [[np.cos(PT[i][0]),-np.sin(PT[i][0])*np.cos(PT[i][1]),np.sin(PT[i][0])*np.sin(PT[i][1]),PT[i][2]*np.cos(PT[i][0])],\n",
    "        [np.sin(PT[i][0]),np.cos(PT[i][0])*np.cos(PT[i][1]),-np.cos(PT[i][0])*np.sin(PT[i][1]),PT[i][2]*np.sin(PT[i][0])],\n",
    "        [0,np.sin(PT[i][1]),np.cos(PT[i][1]),PT[i][3]],\n",
    "        [0,0,0,1]]\n",
    "\n",
    "i = 1\n",
    "H1_2 = [[np.cos(PT[i][0]),-np.sin(PT[i][0])*np.cos(PT[i][1]),np.sin(PT[i][0])*np.sin(PT[i][1]),PT[i][2]*np.cos(PT[i][0])],\n",
    "        [np.sin(PT[i][0]),np.cos(PT[i][0])*np.cos(PT[i][1]),-np.cos(PT[i][0])*np.sin(PT[i][1]),PT[i][2]*np.sin(PT[i][0])],\n",
    "        [0,np.sin(PT[i][1]),np.cos(PT[i][1]),PT[i][3]],\n",
    "        [0,0,0,1]]\n",
    "\n",
    "i = 2\n",
    "H2_3 = [[np.cos(PT[i][0]),-np.sin(PT[i][0])*np.cos(PT[i][1]),np.sin(PT[i][0])*np.sin(PT[i][1]),PT[i][2]*np.cos(PT[i][0])],\n",
    "        [np.sin(PT[i][0]),np.cos(PT[i][0])*np.cos(PT[i][1]),-np.cos(PT[i][0])*np.sin(PT[i][1]),PT[i][2]*np.sin(PT[i][0])],\n",
    "        [0,np.sin(PT[i][1]),np.cos(PT[i][1]),PT[i][3]],\n",
    "        [0,0,0,1]]\n",
    "\n",
    "H0_1 = np.matrix(H0_1)\n",
    "print(\"H0_1=\")\n",
    "print (H0_1)\n",
    "\n",
    "H1_2 = np.matrix(H1_2)\n",
    "print(\"H1_2=\")\n",
    "print (H1_2)\n",
    "\n",
    "H2_3 = np.matrix(H2_3)\n",
    "print(\"H2_3=\")\n",
    "print (H2_3)\n",
    "\n",
    "H0_2 = np.dot (H0_1,H1_2)\n",
    "H0_3 = np.dot (H0_2,H2_3)\n",
    "print(\"H0_3=\")\n",
    "print(np.matrix(H0_3))\n"
   ]
  },
  {
   "cell_type": "code",
   "execution_count": 4,
   "metadata": {},
   "outputs": [
    {
     "name": "stdout",
     "output_type": "stream",
     "text": [
      "H0_2=\n",
      "[[ 1.0000000e+00  0.0000000e+00  0.0000000e+00  1.1000000e+02]\n",
      " [ 0.0000000e+00 -1.0000000e+00 -1.2246468e-16  0.0000000e+00]\n",
      " [ 0.0000000e+00  1.2246468e-16 -1.0000000e+00  7.0000000e+01]\n",
      " [ 0.0000000e+00  0.0000000e+00  0.0000000e+00  1.0000000e+00]]\n"
     ]
    }
   ],
   "source": [
    "H0_2 = np.dot (H0_1,H1_2)\n",
    "print(\"H0_2=\")\n",
    "print(np.matrix(H0_2))\n"
   ]
  },
  {
   "cell_type": "markdown",
   "metadata": {},
   "source": [
    "## POSITION VECTOR"
   ]
  },
  {
   "cell_type": "code",
   "execution_count": 5,
   "metadata": {},
   "outputs": [
    {
     "name": "stdout",
     "output_type": "stream",
     "text": [
      "X =  110.0\n",
      "Y =  -1.7145055188062946e-14\n",
      "Z =  -70.0\n"
     ]
    }
   ],
   "source": [
    "X0_3 = H0_3[0,3]\n",
    "print(\"X = \", X0_3)\n",
    "Y0_3 = H0_3[1,3]\n",
    "print(\"Y = \", Y0_3)\n",
    "Z0_3 = H0_3[2,3]\n",
    "print(\"Z = \", Z0_3)\n",
    "\n"
   ]
  },
  {
   "cell_type": "markdown",
   "metadata": {},
   "source": [
    "### Jacobian Matrix"
   ]
  },
  {
   "cell_type": "markdown",
   "metadata": {},
   "source": [
    "### 1. Linear/Prismatic Vector"
   ]
  },
  {
   "cell_type": "code",
   "execution_count": 6,
   "metadata": {},
   "outputs": [
    {
     "name": "stdout",
     "output_type": "stream",
     "text": [
      "J1a = \n",
      "[[0]\n",
      " [0]\n",
      " [1]]\n",
      "J1b = \n",
      "[[ 1.10000000e+02]\n",
      " [-1.71450552e-14]\n",
      " [-7.00000000e+01]]\n",
      "J1 = \n",
      "[[ 1.71450552e-14]\n",
      " [ 1.10000000e+02]\n",
      " [-0.00000000e+00]]\n"
     ]
    }
   ],
   "source": [
    "# Row 1 - 3, Column 1\n",
    "\n",
    "J1a = [[1,0,0],[0,1,0],[0,0,1]]\n",
    "Z_1 = [[0],[0],[1]] # the [0,0,1] vector\n",
    "\n",
    "J1a = np.dot(J1a,Z_1)\n",
    "print(\"J1a = \")\n",
    "print(np.matrix(J1a))\n",
    "\n",
    "J1b_1 = H0_3[0:3, 3:]\n",
    "J1b_1 = np.matrix(J1b_1)\n",
    "#print(J1b_1)\n",
    "\n",
    "J1b_2 = [0]\n",
    "J1b_2 = np.matrix(J1b_2)\n",
    "#print(J1b_2)\n",
    "\n",
    "J1b = J1b_1 - J1b_2\n",
    "print(\"J1b = \")\n",
    "print(J1b)\n",
    "\n",
    "J1 = [[(J1a[1,0]*J1b[2,0])-(J1a[2,0]*J1b[1,0])],\n",
    "[(J1a[2,0]*J1b[0,0])-(J1a[0,0]*J1b[2,0])],\n",
    "[(J1a[0,0]*J1b[1,0])-(J1a[1,0]*J1b[0,0])]]\n",
    "print(\"J1 = \")\n",
    "print (np.matrix(J1))\n",
    "\n"
   ]
  },
  {
   "cell_type": "code",
   "execution_count": 7,
   "metadata": {},
   "outputs": [
    {
     "name": "stdout",
     "output_type": "stream",
     "text": [
      "J2a = \n",
      "[[0.]\n",
      " [0.]\n",
      " [1.]]\n",
      "J2b = \n",
      "[[ 6.00000000e+01]\n",
      " [-1.71450552e-14]\n",
      " [-1.10000000e+02]]\n",
      "J2 = \n",
      "[[ 1.71450552e-14]\n",
      " [ 6.00000000e+01]\n",
      " [-0.00000000e+00]]\n"
     ]
    }
   ],
   "source": [
    "# Row 1 -3, Column 2\n",
    "\n",
    "J2a = H0_1 [0:3,0:3]\n",
    "J2a = np.dot(J2a,Z_1)\n",
    "print(\"J2a = \")\n",
    "print(J2a)\n",
    "\n",
    "J2b_1 = H0_3[0:3, 3:]\n",
    "J2b_1 = np.matrix(J2b_1)\n",
    "#print(J2b_1)\n",
    "\n",
    "J2b_2 = H0_1[0:3, 3:]\n",
    "J2b_2 = np.matrix(J2b_2)\n",
    "#print(J2b_2)\n",
    "\n",
    "J2b = J2b_1 - J2b_2\n",
    "print(\"J2b = \")\n",
    "print(J2b)\n",
    "\n",
    "J2 = [[(J2a[1,0]*J2b[2,0])-(J2a[2,0]*J2b[1,0])],\n",
    "[(J2a[2,0]*J2b[0,0])-(J2a[0,0]*J2b[2,0])],\n",
    "[(J2a[0,0]*J2b[1,0])-(J2a[1,0]*J2b[0,0])]]\n",
    "print(\"J2 = \")\n",
    "print (np.matrix(J2))"
   ]
  },
  {
   "cell_type": "code",
   "execution_count": 8,
   "metadata": {},
   "outputs": [
    {
     "name": "stdout",
     "output_type": "stream",
     "text": [
      "J3 = \n",
      "[[ 0.0000000e+00]\n",
      " [-1.2246468e-16]\n",
      " [-1.0000000e+00]]\n"
     ]
    }
   ],
   "source": [
    "## Row 1 - 3, Column 3\n",
    "\n",
    "J3 = H0_2[0:3,0:3]\n",
    "J3 = np.dot(J3,Z_1)\n",
    "print('J3 = ')\n",
    "print(np.matrix(J3))\n"
   ]
  },
  {
   "cell_type": "markdown",
   "metadata": {},
   "source": [
    "### 2.Rotation/Orientation Vector"
   ]
  },
  {
   "cell_type": "code",
   "execution_count": 9,
   "metadata": {},
   "outputs": [
    {
     "name": "stdout",
     "output_type": "stream",
     "text": [
      "J4 = \n",
      "[[0]\n",
      " [0]\n",
      " [1]]\n",
      "J5 = \n",
      "[[0.]\n",
      " [0.]\n",
      " [1.]]\n",
      "J6 = \n",
      "[[0]\n",
      " [0]\n",
      " [0]]\n"
     ]
    }
   ],
   "source": [
    "J4 = [[1,0,0],[0,1,0],[0,0,1]]\n",
    "J4 = np.dot(J4,Z_1)\n",
    "print(\"J4 = \")\n",
    "print(np.matrix(J4))\n",
    "\n",
    "J5 = H0_1 [0:3,0:3]\n",
    "J5 = np.dot(J5,Z_1)\n",
    "print(\"J5 = \")\n",
    "print(J5)\n",
    "\n",
    "J6 = [[0],[0],[0]]\n",
    "print(\"J6 = \")\n",
    "print(np.matrix(J6))\n"
   ]
  },
  {
   "cell_type": "markdown",
   "metadata": {},
   "source": [
    "### 3. Contanetated Jacobian Matrix"
   ]
  },
  {
   "cell_type": "code",
   "execution_count": 10,
   "metadata": {},
   "outputs": [
    {
     "name": "stdout",
     "output_type": "stream",
     "text": [
      "J = \n",
      "[[ 1.71450552e-14  1.71450552e-14  0.00000000e+00]\n",
      " [ 1.10000000e+02  6.00000000e+01 -1.22464680e-16]\n",
      " [-0.00000000e+00 -0.00000000e+00 -1.00000000e+00]\n",
      " [ 0.00000000e+00  0.00000000e+00  0.00000000e+00]\n",
      " [ 0.00000000e+00  0.00000000e+00  0.00000000e+00]\n",
      " [ 1.00000000e+00  1.00000000e+00  0.00000000e+00]]\n"
     ]
    }
   ],
   "source": [
    "JM1 = np.concatenate ((J1,J2,J3),1)\n",
    "#print(JM1)\n",
    "\n",
    "JM2 = np.concatenate ((J4,J5,J6),1)\n",
    "#print(JM2)\n",
    "\n",
    "J = np.concatenate ((JM1,JM2),0)\n",
    "print(\"J = \")\n",
    "print(J)\n",
    "\n"
   ]
  }
 ],
 "metadata": {
  "interpreter": {
   "hash": "21620de936502dd12bd7e4172d55744592a54d879ee6718dd6b4758bf086f7fa"
  },
  "kernelspec": {
   "display_name": "Python 3.9.7 ('base')",
   "language": "python",
   "name": "python3"
  },
  "language_info": {
   "codemirror_mode": {
    "name": "ipython",
    "version": 3
   },
   "file_extension": ".py",
   "mimetype": "text/x-python",
   "name": "python",
   "nbconvert_exporter": "python",
   "pygments_lexer": "ipython3",
   "version": "3.9.7"
  },
  "orig_nbformat": 4
 },
 "nbformat": 4,
 "nbformat_minor": 2
}
